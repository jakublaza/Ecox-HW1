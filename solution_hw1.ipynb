{
 "cells": [
  {
   "cell_type": "markdown",
   "metadata": {},
   "source": [
    "# Home Assignment I - Econometrics\n",
    "#### Ondřej Knížek, Jakub Láža & Martin Panáček"
   ]
  },
  {
   "cell_type": "markdown",
   "metadata": {},
   "source": [
    "# Problem 1"
   ]
  },
  {
   "cell_type": "markdown",
   "metadata": {},
   "source": [
    "We have following table of probability of being in each group (A, B, C):"
   ]
  },
  {
   "cell_type": "markdown",
   "metadata": {},
   "source": [
    "| Group       | A            | B                     | C                |\n",
    "|-------------|--------------|-----------------------|------------------|\n",
    "| probability | $$\\theta^2$$ | $$2\\theta(1-\\theta)$$ | $$(1-\\theta)^2$$ |"
   ]
  },
  {
   "cell_type": "markdown",
   "metadata": {},
   "source": [
    "We have a random sample S, where $$k_1 \\in A, k_2 \\in B, k_3 \\in C$$ and $$S = \\cup_{i = 1}^{3} k_i$$"
   ]
  },
  {
   "cell_type": "markdown",
   "metadata": {},
   "source": [
    "We have the following multinomial distribution:"
   ]
  },
  {
   "cell_type": "markdown",
   "metadata": {},
   "source": [
    "$$ f(k_1, k_2, k_3, n, \\theta^2, 2\\theta(1-\\theta), (1-\\theta)^2) = \\frac{n!}{k_1! \\cdot k_2! \\cdot k_3!} \\theta^2 \\cdot 2\\theta(1-\\theta)\\cdot (1-\\theta)^2$$"
   ]
  },
  {
   "cell_type": "markdown",
   "metadata": {},
   "source": [
    "where $n = k_1+k_2+k_3$."
   ]
  },
  {
   "cell_type": "markdown",
   "metadata": {},
   "source": [
    "The maximum likelihood function will then have following shape: "
   ]
  },
  {
   "cell_type": "markdown",
   "metadata": {},
   "source": [
    "$$ \\mathcal{L}(k_1, k_2, k_3, n, \\theta) = \\frac{n!}{k_1! \\cdot k_2! \\cdot k_3!} \\theta^2 \\cdot 2\\theta(1-\\theta)\\cdot (1-\\theta)^2 $$"
   ]
  },
  {
   "cell_type": "markdown",
   "metadata": {},
   "source": [
    "The the log-likelihood is:"
   ]
  },
  {
   "cell_type": "markdown",
   "metadata": {},
   "source": [
    "$$ \\log\\mathcal{L}(k_1, k_2, k_3, n, \\theta) = \\log\\left(\\frac{n!}{k_1! \\cdot k_2! \\cdot k_3!}\\right) + 2k_1 \\log(\\theta) + k_2 \\log(2\\theta(1-\\theta)) + 2k_3 \\log((1-\\theta))$$"
   ]
  },
  {
   "cell_type": "markdown",
   "metadata": {},
   "source": [
    "We maximize this function by taking a derivative w.r.t. $\\theta$ set it to equal 0. "
   ]
  },
  {
   "cell_type": "markdown",
   "metadata": {},
   "source": [
    "$$\\frac{\\partial \\log\\mathcal{L}(k_1, k_2, k_3, n, \\theta)}{\\partial \\theta} = 0 + \\frac{2k_1}{\\theta} + \\frac{2k_2(1-2\\theta)}{2\\theta(1-\\theta)} - \\frac{2k_3}{1-\\theta} = 0 $$"
   ]
  },
  {
   "cell_type": "markdown",
   "metadata": {},
   "source": [
    "$$4k_1(1-\\theta) + 2k_2(1-2\\theta) - 4k_3 \\theta = 0$$"
   ]
  },
  {
   "cell_type": "markdown",
   "metadata": {},
   "source": [
    "$$ 4k_1-4k_1\\theta + 2k_2-4k_2\\theta - 4k_3 \\theta = 0 $$"
   ]
  },
  {
   "cell_type": "markdown",
   "metadata": {},
   "source": [
    "$$ 4k_1 + 2k_2 = 4k_1\\theta +4k_2\\theta + 4k_3 \\theta$$"
   ]
  },
  {
   "cell_type": "markdown",
   "metadata": {},
   "source": [
    "$$ \\hat{\\theta} = \\frac{2k_1 + k_2}{2(k_1 + k_2 + k_3)}$$"
   ]
  },
  {
   "cell_type": "markdown",
   "metadata": {},
   "source": [
    "When $k_1  = 543, k_2 = 248$ and $k_3 = 710$, by plugging into the MLE estimate $\\hat{\\theta}$ we get:"
   ]
  },
  {
   "cell_type": "markdown",
   "metadata": {},
   "source": [
    "$$ \\hat{\\theta} = 0.44$$"
   ]
  },
  {
   "cell_type": "markdown",
   "metadata": {},
   "source": [
    "# Problem 2"
   ]
  },
  {
   "cell_type": "markdown",
   "metadata": {},
   "source": []
  }
 ],
 "metadata": {
  "kernelspec": {
   "display_name": "R",
   "language": "R",
   "name": "ir"
  },
  "language_info": {
   "codemirror_mode": "r",
   "file_extension": ".r",
   "mimetype": "text/x-r-source",
   "name": "R",
   "pygments_lexer": "r",
   "version": "4.1.0"
  },
  "orig_nbformat": 4,
  "vscode": {
   "interpreter": {
    "hash": "31f2aee4e71d21fbe5cf8b01ff0e069b9275f58929596ceb00d14d90e3e16cd6"
   }
  }
 },
 "nbformat": 4,
 "nbformat_minor": 2
}
